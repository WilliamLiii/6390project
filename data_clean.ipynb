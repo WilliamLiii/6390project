{
 "cells": [
  {
   "cell_type": "code",
   "execution_count": 1,
   "metadata": {},
   "outputs": [],
   "source": [
    "import pandas as pd\n",
    "import numpy as np\n",
    "import matplotlib.pyplot as plt\n",
    "%matplotlib inline\n",
    "from pyxlsb import open_workbook as open_xlsb"
   ]
  },
  {
   "cell_type": "markdown",
   "metadata": {},
   "source": [
    "# Read datasets"
   ]
  },
  {
   "cell_type": "code",
   "execution_count": 6,
   "metadata": {},
   "outputs": [],
   "source": [
    "sheets = ['SALES DATA','PRODUCT','INVENTORY DATA','CUSTOMER DATA']\n",
    "data = {}\n",
    "\n",
    "for i in range(3,7):\n",
    "    df = []\n",
    "\n",
    "    with open_xlsb('data/POC-DATA-JUNE1.xlsb') as wb:\n",
    "        with wb.get_sheet(i) as sheet:\n",
    "            for row in sheet.rows():\n",
    "                df.append([item.v for item in row])\n",
    "\n",
    "    data[sheets[i-3]] = pd.DataFrame(df[1:], columns=df[0])"
   ]
  },
  {
   "cell_type": "markdown",
   "metadata": {},
   "source": [
    "# Data clean"
   ]
  },
  {
   "cell_type": "code",
   "execution_count": 7,
   "metadata": {},
   "outputs": [
    {
     "data": {
      "text/html": [
       "<div>\n",
       "<style scoped>\n",
       "    .dataframe tbody tr th:only-of-type {\n",
       "        vertical-align: middle;\n",
       "    }\n",
       "\n",
       "    .dataframe tbody tr th {\n",
       "        vertical-align: top;\n",
       "    }\n",
       "\n",
       "    .dataframe thead th {\n",
       "        text-align: right;\n",
       "    }\n",
       "</style>\n",
       "<table border=\"1\" class=\"dataframe\">\n",
       "  <thead>\n",
       "    <tr style=\"text-align: right;\">\n",
       "      <th></th>\n",
       "      <th>InvoiceNo</th>\n",
       "      <th>StockCode</th>\n",
       "      <th>Quantity Shipped</th>\n",
       "      <th>Year</th>\n",
       "      <th>Invoice Date</th>\n",
       "      <th>UnitPrice</th>\n",
       "      <th>Ext-Price</th>\n",
       "      <th>CustomerID</th>\n",
       "      <th>Country</th>\n",
       "      <th>GM%</th>\n",
       "      <th>Shipper</th>\n",
       "      <th>COST</th>\n",
       "      <th>EXT COST</th>\n",
       "      <th>REGION</th>\n",
       "      <th>SALES P</th>\n",
       "      <th>None</th>\n",
       "    </tr>\n",
       "  </thead>\n",
       "  <tbody>\n",
       "    <tr>\n",
       "      <th>0</th>\n",
       "      <td>568200</td>\n",
       "      <td>PADS</td>\n",
       "      <td>5.00</td>\n",
       "      <td>2017.0</td>\n",
       "      <td>43003</td>\n",
       "      <td>0.999975</td>\n",
       "      <td>4.999876</td>\n",
       "      <td>16198.0</td>\n",
       "      <td>United Kingdom</td>\n",
       "      <td>0.000023</td>\n",
       "      <td>Delivery Truck</td>\n",
       "      <td>0.999953</td>\n",
       "      <td>4.999763</td>\n",
       "      <td>SOUTH</td>\n",
       "      <td>GRACE J</td>\n",
       "      <td>NaN</td>\n",
       "    </tr>\n",
       "    <tr>\n",
       "      <th>1</th>\n",
       "      <td>568375</td>\n",
       "      <td>BANK CHARGES</td>\n",
       "      <td>5.00</td>\n",
       "      <td>2017.0</td>\n",
       "      <td>43004</td>\n",
       "      <td>0.999977</td>\n",
       "      <td>4.999883</td>\n",
       "      <td>13405.0</td>\n",
       "      <td>United Kingdom</td>\n",
       "      <td>1.000000</td>\n",
       "      <td>UPS Next day Air</td>\n",
       "      <td>0.000000</td>\n",
       "      <td>0.000000</td>\n",
       "      <td>WEST</td>\n",
       "      <td>JEFF Y</td>\n",
       "      <td>NaN</td>\n",
       "    </tr>\n",
       "    <tr>\n",
       "      <th>2</th>\n",
       "      <td>561226</td>\n",
       "      <td>PADS</td>\n",
       "      <td>5.00</td>\n",
       "      <td>2017.0</td>\n",
       "      <td>42942</td>\n",
       "      <td>0.999886</td>\n",
       "      <td>4.999428</td>\n",
       "      <td>15618.0</td>\n",
       "      <td>United Kingdom</td>\n",
       "      <td>-0.000067</td>\n",
       "      <td>Delivery Truck</td>\n",
       "      <td>0.999953</td>\n",
       "      <td>4.999763</td>\n",
       "      <td>SOUTH</td>\n",
       "      <td>GRACE J</td>\n",
       "      <td>NaN</td>\n",
       "    </tr>\n",
       "    <tr>\n",
       "      <th>3</th>\n",
       "      <td>2550193</td>\n",
       "      <td>PADS</td>\n",
       "      <td>7.08</td>\n",
       "      <td>2018.0</td>\n",
       "      <td>43259</td>\n",
       "      <td>0.999962</td>\n",
       "      <td>7.079728</td>\n",
       "      <td>13952.0</td>\n",
       "      <td>United Kingdom</td>\n",
       "      <td>0.000009</td>\n",
       "      <td>UPS ground 2nd day</td>\n",
       "      <td>0.999953</td>\n",
       "      <td>7.079664</td>\n",
       "      <td>CENTRAL</td>\n",
       "      <td>PETER T</td>\n",
       "      <td>NaN</td>\n",
       "    </tr>\n",
       "    <tr>\n",
       "      <th>4</th>\n",
       "      <td>550193</td>\n",
       "      <td>PADS</td>\n",
       "      <td>5.00</td>\n",
       "      <td>2017.0</td>\n",
       "      <td>42840</td>\n",
       "      <td>0.999988</td>\n",
       "      <td>4.999940</td>\n",
       "      <td>13952.0</td>\n",
       "      <td>United Kingdom</td>\n",
       "      <td>0.000035</td>\n",
       "      <td>UPS ground 2nd day</td>\n",
       "      <td>0.999953</td>\n",
       "      <td>4.999763</td>\n",
       "      <td>CENTRAL</td>\n",
       "      <td>PETER T</td>\n",
       "      <td>NaN</td>\n",
       "    </tr>\n",
       "  </tbody>\n",
       "</table>\n",
       "</div>"
      ],
      "text/plain": [
       "  InvoiceNo     StockCode  Quantity Shipped    Year Invoice Date  UnitPrice  \\\n",
       "0    568200          PADS              5.00  2017.0        43003   0.999975   \n",
       "1    568375  BANK CHARGES              5.00  2017.0        43004   0.999977   \n",
       "2    561226          PADS              5.00  2017.0        42942   0.999886   \n",
       "3   2550193          PADS              7.08  2018.0        43259   0.999962   \n",
       "4    550193          PADS              5.00  2017.0        42840   0.999988   \n",
       "\n",
       "   Ext-Price  CustomerID         Country       GM%             Shipper  \\\n",
       "0   4.999876     16198.0  United Kingdom  0.000023      Delivery Truck   \n",
       "1   4.999883     13405.0  United Kingdom  1.000000    UPS Next day Air   \n",
       "2   4.999428     15618.0  United Kingdom -0.000067      Delivery Truck   \n",
       "3   7.079728     13952.0  United Kingdom  0.000009  UPS ground 2nd day   \n",
       "4   4.999940     13952.0  United Kingdom  0.000035  UPS ground 2nd day   \n",
       "\n",
       "       COST  EXT COST   REGION  SALES P  NaN  \n",
       "0  0.999953  4.999763    SOUTH  GRACE J  NaN  \n",
       "1  0.000000  0.000000     WEST   JEFF Y  NaN  \n",
       "2  0.999953  4.999763    SOUTH  GRACE J  NaN  \n",
       "3  0.999953  7.079664  CENTRAL  PETER T  NaN  \n",
       "4  0.999953  4.999763  CENTRAL  PETER T  NaN  "
      ]
     },
     "execution_count": 7,
     "metadata": {},
     "output_type": "execute_result"
    }
   ],
   "source": [
    "data['SALES DATA'].head()"
   ]
  },
  {
   "cell_type": "code",
   "execution_count": 12,
   "metadata": {},
   "outputs": [
    {
     "name": "stdout",
     "output_type": "stream",
     "text": [
      "<class 'pandas.core.frame.DataFrame'>\n",
      "RangeIndex: 566309 entries, 0 to 566308\n",
      "Data columns (total 16 columns):\n",
      "InvoiceNo           566309 non-null object\n",
      "StockCode           566309 non-null object\n",
      "Quantity Shipped    566309 non-null float64\n",
      "Year                566309 non-null float64\n",
      "Invoice Date        566309 non-null object\n",
      "UnitPrice           566309 non-null float64\n",
      "Ext-Price           566309 non-null float64\n",
      "CustomerID          566309 non-null float64\n",
      "Country             566309 non-null object\n",
      "GM%                 566309 non-null float64\n",
      "Shipper             566309 non-null object\n",
      "COST                566309 non-null float64\n",
      "EXT COST            566309 non-null float64\n",
      "REGION              566309 non-null object\n",
      "SALES P             566309 non-null object\n",
      "None                166199 non-null float64\n",
      "dtypes: float64(9), object(7)\n",
      "memory usage: 69.1+ MB\n"
     ]
    }
   ],
   "source": [
    "data['SALES DATA'].info()"
   ]
  },
  {
   "cell_type": "code",
   "execution_count": 19,
   "metadata": {},
   "outputs": [
    {
     "data": {
      "text/plain": [
       "NaN      400110\n",
       " 1.00      4526\n",
       " 8.95      2143\n",
       " 9.10      1966\n",
       " 2.95      1894\n",
       "dtype: int64"
      ]
     },
     "execution_count": 19,
     "metadata": {},
     "output_type": "execute_result"
    }
   ],
   "source": [
    "data['SALES DATA'].iloc[:,-1].value_counts(dropna = False).head()"
   ]
  },
  {
   "cell_type": "markdown",
   "metadata": {},
   "source": [
    "Find a non-named column which most value is missing."
   ]
  },
  {
   "cell_type": "code",
   "execution_count": 21,
   "metadata": {},
   "outputs": [
    {
     "data": {
      "text/plain": [
       "277.34400     1\n",
       "186.62400     1\n",
       "46.57500      1\n",
       "8.99775       1\n",
       "1371.43125    1\n",
       "Name: Quantity Shipped, dtype: int64"
      ]
     },
     "execution_count": 21,
     "metadata": {},
     "output_type": "execute_result"
    }
   ],
   "source": [
    "data['SALES DATA']['Quantity Shipped'].value_counts().tail()"
   ]
  },
  {
   "cell_type": "markdown",
   "metadata": {},
   "source": [
    "Lots of quantity shipped is a float value instead of integer."
   ]
  },
  {
   "cell_type": "code",
   "execution_count": 8,
   "metadata": {},
   "outputs": [
    {
     "data": {
      "text/html": [
       "<div>\n",
       "<style scoped>\n",
       "    .dataframe tbody tr th:only-of-type {\n",
       "        vertical-align: middle;\n",
       "    }\n",
       "\n",
       "    .dataframe tbody tr th {\n",
       "        vertical-align: top;\n",
       "    }\n",
       "\n",
       "    .dataframe thead th {\n",
       "        text-align: right;\n",
       "    }\n",
       "</style>\n",
       "<table border=\"1\" class=\"dataframe\">\n",
       "  <thead>\n",
       "    <tr style=\"text-align: right;\">\n",
       "      <th></th>\n",
       "      <th>StockCode</th>\n",
       "      <th>Commodity</th>\n",
       "    </tr>\n",
       "  </thead>\n",
       "  <tbody>\n",
       "    <tr>\n",
       "      <th>0</th>\n",
       "      <td>10002</td>\n",
       "      <td>Bolt</td>\n",
       "    </tr>\n",
       "    <tr>\n",
       "      <th>1</th>\n",
       "      <td>10080</td>\n",
       "      <td>Bolt</td>\n",
       "    </tr>\n",
       "    <tr>\n",
       "      <th>2</th>\n",
       "      <td>10120</td>\n",
       "      <td>Bolt</td>\n",
       "    </tr>\n",
       "    <tr>\n",
       "      <th>3</th>\n",
       "      <td>10125</td>\n",
       "      <td>Bolt</td>\n",
       "    </tr>\n",
       "    <tr>\n",
       "      <th>4</th>\n",
       "      <td>10133</td>\n",
       "      <td>Bolt</td>\n",
       "    </tr>\n",
       "  </tbody>\n",
       "</table>\n",
       "</div>"
      ],
      "text/plain": [
       "  StockCode Commodity\n",
       "0     10002      Bolt\n",
       "1     10080      Bolt\n",
       "2     10120      Bolt\n",
       "3     10125      Bolt\n",
       "4     10133      Bolt"
      ]
     },
     "execution_count": 8,
     "metadata": {},
     "output_type": "execute_result"
    }
   ],
   "source": [
    "data['PRODUCT'].head()"
   ]
  },
  {
   "cell_type": "code",
   "execution_count": 13,
   "metadata": {},
   "outputs": [
    {
     "name": "stdout",
     "output_type": "stream",
     "text": [
      "<class 'pandas.core.frame.DataFrame'>\n",
      "RangeIndex: 3958 entries, 0 to 3957\n",
      "Data columns (total 2 columns):\n",
      "StockCode    3958 non-null object\n",
      "Commodity    3958 non-null object\n",
      "dtypes: object(2)\n",
      "memory usage: 61.9+ KB\n"
     ]
    }
   ],
   "source": [
    "data['PRODUCT'].info()"
   ]
  },
  {
   "cell_type": "code",
   "execution_count": 9,
   "metadata": {},
   "outputs": [
    {
     "data": {
      "text/html": [
       "<div>\n",
       "<style scoped>\n",
       "    .dataframe tbody tr th:only-of-type {\n",
       "        vertical-align: middle;\n",
       "    }\n",
       "\n",
       "    .dataframe tbody tr th {\n",
       "        vertical-align: top;\n",
       "    }\n",
       "\n",
       "    .dataframe thead th {\n",
       "        text-align: right;\n",
       "    }\n",
       "</style>\n",
       "<table border=\"1\" class=\"dataframe\">\n",
       "  <thead>\n",
       "    <tr style=\"text-align: right;\">\n",
       "      <th></th>\n",
       "      <th>LOCATION</th>\n",
       "      <th>StockCode</th>\n",
       "      <th>DESCRIPTION</th>\n",
       "      <th>QUANTITY ON HAND</th>\n",
       "      <th>UNIT OF MEASURE</th>\n",
       "      <th>UNIT COST</th>\n",
       "      <th>EXTENDED COST</th>\n",
       "      <th>DATE</th>\n",
       "      <th>LAST RECEIPT DATE</th>\n",
       "    </tr>\n",
       "  </thead>\n",
       "  <tbody>\n",
       "    <tr>\n",
       "      <th>0</th>\n",
       "      <td>WSE 1</td>\n",
       "      <td>40005B</td>\n",
       "      <td>None</td>\n",
       "      <td>0.0</td>\n",
       "      <td>EACH</td>\n",
       "      <td>1.049867</td>\n",
       "      <td>0.0</td>\n",
       "      <td>43252.0</td>\n",
       "      <td>43237.0</td>\n",
       "    </tr>\n",
       "    <tr>\n",
       "      <th>1</th>\n",
       "      <td>WSE 1</td>\n",
       "      <td>44242A</td>\n",
       "      <td>None</td>\n",
       "      <td>0.0</td>\n",
       "      <td>EACH</td>\n",
       "      <td>0.000000</td>\n",
       "      <td>0.0</td>\n",
       "      <td>43252.0</td>\n",
       "      <td>42057.0</td>\n",
       "    </tr>\n",
       "    <tr>\n",
       "      <th>2</th>\n",
       "      <td>WSE 1</td>\n",
       "      <td>37491B</td>\n",
       "      <td>None</td>\n",
       "      <td>0.0</td>\n",
       "      <td>EACH</td>\n",
       "      <td>1.069300</td>\n",
       "      <td>0.0</td>\n",
       "      <td>43252.0</td>\n",
       "      <td>41309.0</td>\n",
       "    </tr>\n",
       "    <tr>\n",
       "      <th>3</th>\n",
       "      <td>WSE 1</td>\n",
       "      <td>37491C</td>\n",
       "      <td>None</td>\n",
       "      <td>0.0</td>\n",
       "      <td>EACH</td>\n",
       "      <td>0.720838</td>\n",
       "      <td>0.0</td>\n",
       "      <td>43252.0</td>\n",
       "      <td>42594.0</td>\n",
       "    </tr>\n",
       "    <tr>\n",
       "      <th>4</th>\n",
       "      <td>WSE 1</td>\n",
       "      <td>37477B</td>\n",
       "      <td>None</td>\n",
       "      <td>0.0</td>\n",
       "      <td>EACH</td>\n",
       "      <td>0.000000</td>\n",
       "      <td>0.0</td>\n",
       "      <td>43252.0</td>\n",
       "      <td>41614.0</td>\n",
       "    </tr>\n",
       "  </tbody>\n",
       "</table>\n",
       "</div>"
      ],
      "text/plain": [
       "  LOCATION StockCode DESCRIPTION  QUANTITY ON HAND UNIT OF MEASURE  UNIT COST  \\\n",
       "0    WSE 1    40005B        None               0.0            EACH   1.049867   \n",
       "1    WSE 1    44242A        None               0.0            EACH   0.000000   \n",
       "2    WSE 1    37491B        None               0.0            EACH   1.069300   \n",
       "3    WSE 1    37491C        None               0.0            EACH   0.720838   \n",
       "4    WSE 1    37477B        None               0.0            EACH   0.000000   \n",
       "\n",
       "   EXTENDED COST     DATE  LAST RECEIPT DATE   \n",
       "0            0.0  43252.0             43237.0  \n",
       "1            0.0  43252.0             42057.0  \n",
       "2            0.0  43252.0             41309.0  \n",
       "3            0.0  43252.0             42594.0  \n",
       "4            0.0  43252.0             41614.0  "
      ]
     },
     "execution_count": 9,
     "metadata": {},
     "output_type": "execute_result"
    }
   ],
   "source": [
    "data['INVENTORY DATA'].head()"
   ]
  },
  {
   "cell_type": "code",
   "execution_count": 14,
   "metadata": {},
   "outputs": [
    {
     "name": "stdout",
     "output_type": "stream",
     "text": [
      "<class 'pandas.core.frame.DataFrame'>\n",
      "RangeIndex: 7476 entries, 0 to 7475\n",
      "Data columns (total 9 columns):\n",
      "LOCATION              7476 non-null object\n",
      "StockCode             7476 non-null object\n",
      "DESCRIPTION           0 non-null object\n",
      "QUANTITY ON HAND      7476 non-null float64\n",
      "UNIT OF MEASURE       7476 non-null object\n",
      "UNIT COST             7476 non-null float64\n",
      "EXTENDED COST         7476 non-null float64\n",
      "DATE                  7476 non-null float64\n",
      "LAST RECEIPT DATE     7476 non-null float64\n",
      "dtypes: float64(5), object(4)\n",
      "memory usage: 525.7+ KB\n"
     ]
    }
   ],
   "source": [
    "data['INVENTORY DATA'].info()"
   ]
  },
  {
   "cell_type": "code",
   "execution_count": 22,
   "metadata": {},
   "outputs": [
    {
     "data": {
      "text/plain": [
       "array([None], dtype=object)"
      ]
     },
     "execution_count": 22,
     "metadata": {},
     "output_type": "execute_result"
    }
   ],
   "source": [
    "data['INVENTORY DATA']['DESCRIPTION'].unique()"
   ]
  },
  {
   "cell_type": "code",
   "execution_count": 23,
   "metadata": {},
   "outputs": [],
   "source": [
    "data['INVENTORY DATA'].drop('DESCRIPTION',axis = 1,inplace = True)"
   ]
  },
  {
   "cell_type": "code",
   "execution_count": 24,
   "metadata": {},
   "outputs": [
    {
     "data": {
      "text/plain": [
       "(7476, 8)"
      ]
     },
     "execution_count": 24,
     "metadata": {},
     "output_type": "execute_result"
    }
   ],
   "source": [
    "data['INVENTORY DATA'].shape"
   ]
  },
  {
   "cell_type": "markdown",
   "metadata": {},
   "source": [
    "Drop Description column because it doesn't contain any value."
   ]
  },
  {
   "cell_type": "code",
   "execution_count": 40,
   "metadata": {},
   "outputs": [
    {
     "data": {
      "text/plain": [
       "EACH    7476\n",
       "Name: UNIT OF MEASURE, dtype: int64"
      ]
     },
     "execution_count": 40,
     "metadata": {},
     "output_type": "execute_result"
    }
   ],
   "source": [
    "data['INVENTORY DATA']['UNIT OF MEASURE'].value_counts()"
   ]
  },
  {
   "cell_type": "code",
   "execution_count": 41,
   "metadata": {},
   "outputs": [],
   "source": [
    "data['INVENTORY DATA'].drop('UNIT OF MEASURE',axis = 1, inplace = True)"
   ]
  },
  {
   "cell_type": "code",
   "execution_count": 42,
   "metadata": {},
   "outputs": [
    {
     "data": {
      "text/plain": [
       "(7476, 7)"
      ]
     },
     "execution_count": 42,
     "metadata": {},
     "output_type": "execute_result"
    }
   ],
   "source": [
    "data['INVENTORY DATA'].shape"
   ]
  },
  {
   "cell_type": "markdown",
   "metadata": {},
   "source": [
    "Drop Unit of Measure column because it cantain all the same value."
   ]
  },
  {
   "cell_type": "code",
   "execution_count": 11,
   "metadata": {},
   "outputs": [
    {
     "data": {
      "text/html": [
       "<div>\n",
       "<style scoped>\n",
       "    .dataframe tbody tr th:only-of-type {\n",
       "        vertical-align: middle;\n",
       "    }\n",
       "\n",
       "    .dataframe tbody tr th {\n",
       "        vertical-align: top;\n",
       "    }\n",
       "\n",
       "    .dataframe thead th {\n",
       "        text-align: right;\n",
       "    }\n",
       "</style>\n",
       "<table border=\"1\" class=\"dataframe\">\n",
       "  <thead>\n",
       "    <tr style=\"text-align: right;\">\n",
       "      <th></th>\n",
       "      <th>None</th>\n",
       "      <th>CustomerID</th>\n",
       "      <th>REGION</th>\n",
       "      <th>SALES PERSON</th>\n",
       "    </tr>\n",
       "  </thead>\n",
       "  <tbody>\n",
       "    <tr>\n",
       "      <th>0</th>\n",
       "      <td>None</td>\n",
       "      <td>17314.0</td>\n",
       "      <td>CENTRAL</td>\n",
       "      <td>GAIL H</td>\n",
       "    </tr>\n",
       "    <tr>\n",
       "      <th>1</th>\n",
       "      <td>None</td>\n",
       "      <td>17373.0</td>\n",
       "      <td>CENTRAL</td>\n",
       "      <td>GAIL H</td>\n",
       "    </tr>\n",
       "    <tr>\n",
       "      <th>2</th>\n",
       "      <td>None</td>\n",
       "      <td>18145.0</td>\n",
       "      <td>CENTRAL</td>\n",
       "      <td>GAIL H</td>\n",
       "    </tr>\n",
       "    <tr>\n",
       "      <th>3</th>\n",
       "      <td>None</td>\n",
       "      <td>14467.0</td>\n",
       "      <td>CENTRAL</td>\n",
       "      <td>GAIL H</td>\n",
       "    </tr>\n",
       "    <tr>\n",
       "      <th>4</th>\n",
       "      <td>None</td>\n",
       "      <td>12908.0</td>\n",
       "      <td>CENTRAL</td>\n",
       "      <td>GAIL H</td>\n",
       "    </tr>\n",
       "  </tbody>\n",
       "</table>\n",
       "</div>"
      ],
      "text/plain": [
       "    NaN  CustomerID   REGION SALES PERSON\n",
       "0  None     17314.0  CENTRAL       GAIL H\n",
       "1  None     17373.0  CENTRAL       GAIL H\n",
       "2  None     18145.0  CENTRAL       GAIL H\n",
       "3  None     14467.0  CENTRAL       GAIL H\n",
       "4  None     12908.0  CENTRAL       GAIL H"
      ]
     },
     "execution_count": 11,
     "metadata": {},
     "output_type": "execute_result"
    }
   ],
   "source": [
    "data['CUSTOMER DATA'].head()"
   ]
  },
  {
   "cell_type": "code",
   "execution_count": 15,
   "metadata": {},
   "outputs": [
    {
     "name": "stdout",
     "output_type": "stream",
     "text": [
      "<class 'pandas.core.frame.DataFrame'>\n",
      "RangeIndex: 4372 entries, 0 to 4371\n",
      "Data columns (total 4 columns):\n",
      "None            0 non-null object\n",
      "CustomerID      4372 non-null float64\n",
      "REGION          4372 non-null object\n",
      "SALES PERSON    4372 non-null object\n",
      "dtypes: float64(1), object(3)\n",
      "memory usage: 136.7+ KB\n"
     ]
    }
   ],
   "source": [
    "data['CUSTOMER DATA'].info()"
   ]
  },
  {
   "cell_type": "code",
   "execution_count": 31,
   "metadata": {},
   "outputs": [
    {
     "data": {
      "text/plain": [
       "array([None], dtype=object)"
      ]
     },
     "execution_count": 31,
     "metadata": {},
     "output_type": "execute_result"
    }
   ],
   "source": [
    "data['CUSTOMER DATA'].iloc[:,0].unique()"
   ]
  },
  {
   "cell_type": "code",
   "execution_count": 32,
   "metadata": {},
   "outputs": [],
   "source": [
    "data['CUSTOMER DATA'].dropna(axis = 1, how='all',inplace =True)"
   ]
  },
  {
   "cell_type": "code",
   "execution_count": 33,
   "metadata": {},
   "outputs": [
    {
     "data": {
      "text/plain": [
       "(4372, 3)"
      ]
     },
     "execution_count": 33,
     "metadata": {},
     "output_type": "execute_result"
    }
   ],
   "source": [
    "data['CUSTOMER DATA'].shape"
   ]
  },
  {
   "cell_type": "markdown",
   "metadata": {},
   "source": [
    "# Merge datasets"
   ]
  },
  {
   "cell_type": "code",
   "execution_count": 177,
   "metadata": {},
   "outputs": [],
   "source": [
    "df = pd.merge(data['SALES DATA'],data['PRODUCT'],how = 'left',on='StockCode')\n",
    "df = pd.merge(df,data['CUSTOMER DATA'],how='left',on='CustomerID')"
   ]
  },
  {
   "cell_type": "code",
   "execution_count": 35,
   "metadata": {},
   "outputs": [
    {
     "data": {
      "text/plain": [
       "(566309, 19)"
      ]
     },
     "execution_count": 35,
     "metadata": {},
     "output_type": "execute_result"
    }
   ],
   "source": [
    "df.shape"
   ]
  },
  {
   "cell_type": "code",
   "execution_count": 36,
   "metadata": {},
   "outputs": [
    {
     "data": {
      "text/html": [
       "<div>\n",
       "<style scoped>\n",
       "    .dataframe tbody tr th:only-of-type {\n",
       "        vertical-align: middle;\n",
       "    }\n",
       "\n",
       "    .dataframe tbody tr th {\n",
       "        vertical-align: top;\n",
       "    }\n",
       "\n",
       "    .dataframe thead th {\n",
       "        text-align: right;\n",
       "    }\n",
       "</style>\n",
       "<table border=\"1\" class=\"dataframe\">\n",
       "  <thead>\n",
       "    <tr style=\"text-align: right;\">\n",
       "      <th></th>\n",
       "      <th>InvoiceNo</th>\n",
       "      <th>StockCode</th>\n",
       "      <th>Quantity Shipped</th>\n",
       "      <th>Year</th>\n",
       "      <th>Invoice Date</th>\n",
       "      <th>UnitPrice</th>\n",
       "      <th>Ext-Price</th>\n",
       "      <th>CustomerID</th>\n",
       "      <th>Country</th>\n",
       "      <th>GM%</th>\n",
       "      <th>Shipper</th>\n",
       "      <th>COST</th>\n",
       "      <th>EXT COST</th>\n",
       "      <th>REGION_x</th>\n",
       "      <th>SALES P</th>\n",
       "      <th>None</th>\n",
       "      <th>Commodity</th>\n",
       "      <th>REGION_y</th>\n",
       "      <th>SALES PERSON</th>\n",
       "    </tr>\n",
       "  </thead>\n",
       "  <tbody>\n",
       "    <tr>\n",
       "      <th>0</th>\n",
       "      <td>568200</td>\n",
       "      <td>PADS</td>\n",
       "      <td>5.00</td>\n",
       "      <td>2017.0</td>\n",
       "      <td>43003</td>\n",
       "      <td>0.999975</td>\n",
       "      <td>4.999876</td>\n",
       "      <td>16198.0</td>\n",
       "      <td>United Kingdom</td>\n",
       "      <td>0.000023</td>\n",
       "      <td>Delivery Truck</td>\n",
       "      <td>0.999953</td>\n",
       "      <td>4.999763</td>\n",
       "      <td>SOUTH</td>\n",
       "      <td>GRACE J</td>\n",
       "      <td>NaN</td>\n",
       "      <td>Studs</td>\n",
       "      <td>SOUTH</td>\n",
       "      <td>GRACE J</td>\n",
       "    </tr>\n",
       "    <tr>\n",
       "      <th>1</th>\n",
       "      <td>568375</td>\n",
       "      <td>BANK CHARGES</td>\n",
       "      <td>5.00</td>\n",
       "      <td>2017.0</td>\n",
       "      <td>43004</td>\n",
       "      <td>0.999977</td>\n",
       "      <td>4.999883</td>\n",
       "      <td>13405.0</td>\n",
       "      <td>United Kingdom</td>\n",
       "      <td>1.000000</td>\n",
       "      <td>UPS Next day Air</td>\n",
       "      <td>0.000000</td>\n",
       "      <td>0.000000</td>\n",
       "      <td>WEST</td>\n",
       "      <td>JEFF Y</td>\n",
       "      <td>NaN</td>\n",
       "      <td>Studs</td>\n",
       "      <td>WEST</td>\n",
       "      <td>JEFF Y</td>\n",
       "    </tr>\n",
       "    <tr>\n",
       "      <th>2</th>\n",
       "      <td>561226</td>\n",
       "      <td>PADS</td>\n",
       "      <td>5.00</td>\n",
       "      <td>2017.0</td>\n",
       "      <td>42942</td>\n",
       "      <td>0.999886</td>\n",
       "      <td>4.999428</td>\n",
       "      <td>15618.0</td>\n",
       "      <td>United Kingdom</td>\n",
       "      <td>-0.000067</td>\n",
       "      <td>Delivery Truck</td>\n",
       "      <td>0.999953</td>\n",
       "      <td>4.999763</td>\n",
       "      <td>SOUTH</td>\n",
       "      <td>GRACE J</td>\n",
       "      <td>NaN</td>\n",
       "      <td>Studs</td>\n",
       "      <td>SOUTH</td>\n",
       "      <td>GRACE J</td>\n",
       "    </tr>\n",
       "    <tr>\n",
       "      <th>3</th>\n",
       "      <td>2550193</td>\n",
       "      <td>PADS</td>\n",
       "      <td>7.08</td>\n",
       "      <td>2018.0</td>\n",
       "      <td>43259</td>\n",
       "      <td>0.999962</td>\n",
       "      <td>7.079728</td>\n",
       "      <td>13952.0</td>\n",
       "      <td>United Kingdom</td>\n",
       "      <td>0.000009</td>\n",
       "      <td>UPS ground 2nd day</td>\n",
       "      <td>0.999953</td>\n",
       "      <td>7.079664</td>\n",
       "      <td>CENTRAL</td>\n",
       "      <td>PETER T</td>\n",
       "      <td>NaN</td>\n",
       "      <td>Studs</td>\n",
       "      <td>CENTRAL</td>\n",
       "      <td>PETER T</td>\n",
       "    </tr>\n",
       "    <tr>\n",
       "      <th>4</th>\n",
       "      <td>550193</td>\n",
       "      <td>PADS</td>\n",
       "      <td>5.00</td>\n",
       "      <td>2017.0</td>\n",
       "      <td>42840</td>\n",
       "      <td>0.999988</td>\n",
       "      <td>4.999940</td>\n",
       "      <td>13952.0</td>\n",
       "      <td>United Kingdom</td>\n",
       "      <td>0.000035</td>\n",
       "      <td>UPS ground 2nd day</td>\n",
       "      <td>0.999953</td>\n",
       "      <td>4.999763</td>\n",
       "      <td>CENTRAL</td>\n",
       "      <td>PETER T</td>\n",
       "      <td>NaN</td>\n",
       "      <td>Studs</td>\n",
       "      <td>CENTRAL</td>\n",
       "      <td>PETER T</td>\n",
       "    </tr>\n",
       "  </tbody>\n",
       "</table>\n",
       "</div>"
      ],
      "text/plain": [
       "  InvoiceNo     StockCode  Quantity Shipped    Year Invoice Date  UnitPrice  \\\n",
       "0    568200          PADS              5.00  2017.0        43003   0.999975   \n",
       "1    568375  BANK CHARGES              5.00  2017.0        43004   0.999977   \n",
       "2    561226          PADS              5.00  2017.0        42942   0.999886   \n",
       "3   2550193          PADS              7.08  2018.0        43259   0.999962   \n",
       "4    550193          PADS              5.00  2017.0        42840   0.999988   \n",
       "\n",
       "   Ext-Price  CustomerID         Country       GM%             Shipper  \\\n",
       "0   4.999876     16198.0  United Kingdom  0.000023      Delivery Truck   \n",
       "1   4.999883     13405.0  United Kingdom  1.000000    UPS Next day Air   \n",
       "2   4.999428     15618.0  United Kingdom -0.000067      Delivery Truck   \n",
       "3   7.079728     13952.0  United Kingdom  0.000009  UPS ground 2nd day   \n",
       "4   4.999940     13952.0  United Kingdom  0.000035  UPS ground 2nd day   \n",
       "\n",
       "       COST  EXT COST REGION_x  SALES P  NaN Commodity REGION_y SALES PERSON  \n",
       "0  0.999953  4.999763    SOUTH  GRACE J  NaN     Studs    SOUTH      GRACE J  \n",
       "1  0.000000  0.000000     WEST   JEFF Y  NaN     Studs     WEST       JEFF Y  \n",
       "2  0.999953  4.999763    SOUTH  GRACE J  NaN     Studs    SOUTH      GRACE J  \n",
       "3  0.999953  7.079664  CENTRAL  PETER T  NaN     Studs  CENTRAL      PETER T  \n",
       "4  0.999953  4.999763  CENTRAL  PETER T  NaN     Studs  CENTRAL      PETER T  "
      ]
     },
     "execution_count": 36,
     "metadata": {},
     "output_type": "execute_result"
    }
   ],
   "source": [
    "df.head()"
   ]
  },
  {
   "cell_type": "markdown",
   "metadata": {},
   "source": [
    "# Because stockcode isn't unique in Inventory data table, we only select date from 2018"
   ]
  },
  {
   "cell_type": "code",
   "execution_count": 147,
   "metadata": {},
   "outputs": [
    {
     "data": {
      "text/plain": [
       "42887.0    3738\n",
       "43252.0    3738\n",
       "Name: DATE, dtype: int64"
      ]
     },
     "execution_count": 147,
     "metadata": {},
     "output_type": "execute_result"
    }
   ],
   "source": [
    "data['INVENTORY DATA']['DATE'].value_counts()"
   ]
  },
  {
   "cell_type": "code",
   "execution_count": 174,
   "metadata": {},
   "outputs": [],
   "source": [
    "inventory_2018 = data['INVENTORY DATA'][data['INVENTORY DATA']['DATE']==43252]"
   ]
  },
  {
   "cell_type": "code",
   "execution_count": 175,
   "metadata": {},
   "outputs": [
    {
     "data": {
      "text/plain": [
       "(3738, 7)"
      ]
     },
     "execution_count": 175,
     "metadata": {},
     "output_type": "execute_result"
    }
   ],
   "source": [
    "inventory_2018.shape"
   ]
  },
  {
   "cell_type": "code",
   "execution_count": 178,
   "metadata": {},
   "outputs": [],
   "source": [
    "df = pd.merge(df,inventory_2018,how ='left',on='StockCode')"
   ]
  },
  {
   "cell_type": "code",
   "execution_count": 179,
   "metadata": {},
   "outputs": [
    {
     "data": {
      "text/plain": [
       "(566309, 25)"
      ]
     },
     "execution_count": 179,
     "metadata": {},
     "output_type": "execute_result"
    }
   ],
   "source": [
    "df.shape"
   ]
  },
  {
   "cell_type": "markdown",
   "metadata": {},
   "source": [
    "# Clean the merged data"
   ]
  },
  {
   "cell_type": "code",
   "execution_count": 180,
   "metadata": {},
   "outputs": [
    {
     "data": {
      "text/html": [
       "<div>\n",
       "<style scoped>\n",
       "    .dataframe tbody tr th:only-of-type {\n",
       "        vertical-align: middle;\n",
       "    }\n",
       "\n",
       "    .dataframe tbody tr th {\n",
       "        vertical-align: top;\n",
       "    }\n",
       "\n",
       "    .dataframe thead th {\n",
       "        text-align: right;\n",
       "    }\n",
       "</style>\n",
       "<table border=\"1\" class=\"dataframe\">\n",
       "  <thead>\n",
       "    <tr style=\"text-align: right;\">\n",
       "      <th></th>\n",
       "      <th>InvoiceNo</th>\n",
       "      <th>StockCode</th>\n",
       "      <th>Quantity Shipped</th>\n",
       "      <th>Year</th>\n",
       "      <th>Invoice Date</th>\n",
       "      <th>UnitPrice</th>\n",
       "      <th>Ext-Price</th>\n",
       "      <th>CustomerID</th>\n",
       "      <th>Country</th>\n",
       "      <th>GM%</th>\n",
       "      <th>...</th>\n",
       "      <th>None</th>\n",
       "      <th>Commodity</th>\n",
       "      <th>REGION_y</th>\n",
       "      <th>SALES PERSON</th>\n",
       "      <th>LOCATION</th>\n",
       "      <th>QUANTITY ON HAND</th>\n",
       "      <th>UNIT COST</th>\n",
       "      <th>EXTENDED COST</th>\n",
       "      <th>DATE</th>\n",
       "      <th>LAST RECEIPT DATE</th>\n",
       "    </tr>\n",
       "  </thead>\n",
       "  <tbody>\n",
       "    <tr>\n",
       "      <th>0</th>\n",
       "      <td>568200</td>\n",
       "      <td>PADS</td>\n",
       "      <td>5.00</td>\n",
       "      <td>2017.0</td>\n",
       "      <td>43003</td>\n",
       "      <td>0.999975</td>\n",
       "      <td>4.999876</td>\n",
       "      <td>16198.0</td>\n",
       "      <td>United Kingdom</td>\n",
       "      <td>0.000023</td>\n",
       "      <td>...</td>\n",
       "      <td>NaN</td>\n",
       "      <td>Studs</td>\n",
       "      <td>SOUTH</td>\n",
       "      <td>GRACE J</td>\n",
       "      <td>WSE 1</td>\n",
       "      <td>0.833333</td>\n",
       "      <td>0.999953</td>\n",
       "      <td>0.833294</td>\n",
       "      <td>43252.0</td>\n",
       "      <td>43126.0</td>\n",
       "    </tr>\n",
       "    <tr>\n",
       "      <th>1</th>\n",
       "      <td>568375</td>\n",
       "      <td>BANK CHARGES</td>\n",
       "      <td>5.00</td>\n",
       "      <td>2017.0</td>\n",
       "      <td>43004</td>\n",
       "      <td>0.999977</td>\n",
       "      <td>4.999883</td>\n",
       "      <td>13405.0</td>\n",
       "      <td>United Kingdom</td>\n",
       "      <td>1.000000</td>\n",
       "      <td>...</td>\n",
       "      <td>NaN</td>\n",
       "      <td>Studs</td>\n",
       "      <td>WEST</td>\n",
       "      <td>JEFF Y</td>\n",
       "      <td>NaN</td>\n",
       "      <td>NaN</td>\n",
       "      <td>NaN</td>\n",
       "      <td>NaN</td>\n",
       "      <td>NaN</td>\n",
       "      <td>NaN</td>\n",
       "    </tr>\n",
       "    <tr>\n",
       "      <th>2</th>\n",
       "      <td>561226</td>\n",
       "      <td>PADS</td>\n",
       "      <td>5.00</td>\n",
       "      <td>2017.0</td>\n",
       "      <td>42942</td>\n",
       "      <td>0.999886</td>\n",
       "      <td>4.999428</td>\n",
       "      <td>15618.0</td>\n",
       "      <td>United Kingdom</td>\n",
       "      <td>-0.000067</td>\n",
       "      <td>...</td>\n",
       "      <td>NaN</td>\n",
       "      <td>Studs</td>\n",
       "      <td>SOUTH</td>\n",
       "      <td>GRACE J</td>\n",
       "      <td>WSE 1</td>\n",
       "      <td>0.833333</td>\n",
       "      <td>0.999953</td>\n",
       "      <td>0.833294</td>\n",
       "      <td>43252.0</td>\n",
       "      <td>43126.0</td>\n",
       "    </tr>\n",
       "    <tr>\n",
       "      <th>3</th>\n",
       "      <td>2550193</td>\n",
       "      <td>PADS</td>\n",
       "      <td>7.08</td>\n",
       "      <td>2018.0</td>\n",
       "      <td>43259</td>\n",
       "      <td>0.999962</td>\n",
       "      <td>7.079728</td>\n",
       "      <td>13952.0</td>\n",
       "      <td>United Kingdom</td>\n",
       "      <td>0.000009</td>\n",
       "      <td>...</td>\n",
       "      <td>NaN</td>\n",
       "      <td>Studs</td>\n",
       "      <td>CENTRAL</td>\n",
       "      <td>PETER T</td>\n",
       "      <td>WSE 1</td>\n",
       "      <td>0.833333</td>\n",
       "      <td>0.999953</td>\n",
       "      <td>0.833294</td>\n",
       "      <td>43252.0</td>\n",
       "      <td>43126.0</td>\n",
       "    </tr>\n",
       "    <tr>\n",
       "      <th>4</th>\n",
       "      <td>550193</td>\n",
       "      <td>PADS</td>\n",
       "      <td>5.00</td>\n",
       "      <td>2017.0</td>\n",
       "      <td>42840</td>\n",
       "      <td>0.999988</td>\n",
       "      <td>4.999940</td>\n",
       "      <td>13952.0</td>\n",
       "      <td>United Kingdom</td>\n",
       "      <td>0.000035</td>\n",
       "      <td>...</td>\n",
       "      <td>NaN</td>\n",
       "      <td>Studs</td>\n",
       "      <td>CENTRAL</td>\n",
       "      <td>PETER T</td>\n",
       "      <td>WSE 1</td>\n",
       "      <td>0.833333</td>\n",
       "      <td>0.999953</td>\n",
       "      <td>0.833294</td>\n",
       "      <td>43252.0</td>\n",
       "      <td>43126.0</td>\n",
       "    </tr>\n",
       "  </tbody>\n",
       "</table>\n",
       "<p>5 rows × 25 columns</p>\n",
       "</div>"
      ],
      "text/plain": [
       "  InvoiceNo     StockCode  Quantity Shipped    Year Invoice Date  UnitPrice  \\\n",
       "0    568200          PADS              5.00  2017.0        43003   0.999975   \n",
       "1    568375  BANK CHARGES              5.00  2017.0        43004   0.999977   \n",
       "2    561226          PADS              5.00  2017.0        42942   0.999886   \n",
       "3   2550193          PADS              7.08  2018.0        43259   0.999962   \n",
       "4    550193          PADS              5.00  2017.0        42840   0.999988   \n",
       "\n",
       "   Ext-Price  CustomerID         Country       GM%        ...         NaN  \\\n",
       "0   4.999876     16198.0  United Kingdom  0.000023        ...         NaN   \n",
       "1   4.999883     13405.0  United Kingdom  1.000000        ...         NaN   \n",
       "2   4.999428     15618.0  United Kingdom -0.000067        ...         NaN   \n",
       "3   7.079728     13952.0  United Kingdom  0.000009        ...         NaN   \n",
       "4   4.999940     13952.0  United Kingdom  0.000035        ...         NaN   \n",
       "\n",
       "   Commodity  REGION_y SALES PERSON LOCATION  QUANTITY ON HAND UNIT COST  \\\n",
       "0      Studs     SOUTH      GRACE J    WSE 1          0.833333  0.999953   \n",
       "1      Studs      WEST       JEFF Y      NaN               NaN       NaN   \n",
       "2      Studs     SOUTH      GRACE J    WSE 1          0.833333  0.999953   \n",
       "3      Studs   CENTRAL      PETER T    WSE 1          0.833333  0.999953   \n",
       "4      Studs   CENTRAL      PETER T    WSE 1          0.833333  0.999953   \n",
       "\n",
       "  EXTENDED COST     DATE LAST RECEIPT DATE   \n",
       "0      0.833294  43252.0            43126.0  \n",
       "1           NaN      NaN                NaN  \n",
       "2      0.833294  43252.0            43126.0  \n",
       "3      0.833294  43252.0            43126.0  \n",
       "4      0.833294  43252.0            43126.0  \n",
       "\n",
       "[5 rows x 25 columns]"
      ]
     },
     "execution_count": 180,
     "metadata": {},
     "output_type": "execute_result"
    }
   ],
   "source": [
    "df.head()"
   ]
  },
  {
   "cell_type": "code",
   "execution_count": 181,
   "metadata": {},
   "outputs": [
    {
     "name": "stdout",
     "output_type": "stream",
     "text": [
      "<class 'pandas.core.frame.DataFrame'>\n",
      "Int64Index: 566309 entries, 0 to 566308\n",
      "Data columns (total 25 columns):\n",
      "InvoiceNo             566309 non-null object\n",
      "StockCode             566309 non-null object\n",
      "Quantity Shipped      566309 non-null float64\n",
      "Year                  566309 non-null float64\n",
      "Invoice Date          566309 non-null object\n",
      "UnitPrice             566309 non-null float64\n",
      "Ext-Price             566309 non-null float64\n",
      "CustomerID            566309 non-null float64\n",
      "Country               566309 non-null object\n",
      "GM%                   566309 non-null float64\n",
      "Shipper               566309 non-null object\n",
      "COST                  566309 non-null float64\n",
      "EXT COST              566309 non-null float64\n",
      "REGION_x              566309 non-null object\n",
      "SALES P               566309 non-null object\n",
      "None                  166199 non-null float64\n",
      "Commodity             563862 non-null object\n",
      "REGION_y              566309 non-null object\n",
      "SALES PERSON          566309 non-null object\n",
      "LOCATION              560030 non-null object\n",
      "QUANTITY ON HAND      560030 non-null float64\n",
      "UNIT COST             560030 non-null float64\n",
      "EXTENDED COST         560030 non-null float64\n",
      "DATE                  560030 non-null float64\n",
      "LAST RECEIPT DATE     560030 non-null float64\n",
      "dtypes: float64(14), object(11)\n",
      "memory usage: 112.3+ MB\n"
     ]
    }
   ],
   "source": [
    "df.info()"
   ]
  },
  {
   "cell_type": "code",
   "execution_count": 182,
   "metadata": {},
   "outputs": [
    {
     "data": {
      "text/plain": [
       "Index([         'InvoiceNo',          'StockCode',   'Quantity Shipped',\n",
       "                     'Year',       'Invoice Date',          'UnitPrice',\n",
       "                'Ext-Price',         'CustomerID',            'Country',\n",
       "                      'GM%',            'Shipper',               'COST',\n",
       "                 'EXT COST',           'REGION_x',            'SALES P',\n",
       "                       None,          'Commodity',           'REGION_y',\n",
       "             'SALES PERSON',           'LOCATION',   'QUANTITY ON HAND',\n",
       "                'UNIT COST',      'EXTENDED COST',               'DATE',\n",
       "       'LAST RECEIPT DATE '],\n",
       "      dtype='object')"
      ]
     },
     "execution_count": 182,
     "metadata": {},
     "output_type": "execute_result"
    }
   ],
   "source": [
    "df.columns"
   ]
  },
  {
   "cell_type": "code",
   "execution_count": 183,
   "metadata": {},
   "outputs": [],
   "source": [
    "df.columns = ['invoice_no','stock_code','quantity_shipped','year','invoice_date'\\\n",
    "              ,'unit_price','ext_price','customer_id','country','gm','shipper'\\\n",
    "              ,'cost','ext_cost','customer_region','sales_rep','unnamed','product_group'\\\n",
    "              ,'customer_region_1','sales_rep_1','location','quantity_on_hand','unit_cost'\\\n",
    "              ,'ext_cost','date','last_receipt_date']"
   ]
  },
  {
   "cell_type": "markdown",
   "metadata": {},
   "source": [
    "Rename columns for easy reference."
   ]
  },
  {
   "cell_type": "code",
   "execution_count": 184,
   "metadata": {},
   "outputs": [
    {
     "data": {
      "text/html": [
       "<div>\n",
       "<style scoped>\n",
       "    .dataframe tbody tr th:only-of-type {\n",
       "        vertical-align: middle;\n",
       "    }\n",
       "\n",
       "    .dataframe tbody tr th {\n",
       "        vertical-align: top;\n",
       "    }\n",
       "\n",
       "    .dataframe thead th {\n",
       "        text-align: right;\n",
       "    }\n",
       "</style>\n",
       "<table border=\"1\" class=\"dataframe\">\n",
       "  <thead>\n",
       "    <tr style=\"text-align: right;\">\n",
       "      <th></th>\n",
       "      <th>quantity_shipped</th>\n",
       "      <th>year</th>\n",
       "      <th>unit_price</th>\n",
       "      <th>ext_price</th>\n",
       "      <th>customer_id</th>\n",
       "      <th>gm</th>\n",
       "      <th>cost</th>\n",
       "      <th>ext_cost</th>\n",
       "      <th>unnamed</th>\n",
       "      <th>quantity_on_hand</th>\n",
       "      <th>unit_cost</th>\n",
       "      <th>ext_cost</th>\n",
       "      <th>date</th>\n",
       "      <th>last_receipt_date</th>\n",
       "    </tr>\n",
       "  </thead>\n",
       "  <tbody>\n",
       "    <tr>\n",
       "      <th>count</th>\n",
       "      <td>566309.000000</td>\n",
       "      <td>566309.000000</td>\n",
       "      <td>566309.000000</td>\n",
       "      <td>566309.000000</td>\n",
       "      <td>566309.000000</td>\n",
       "      <td>566309.000000</td>\n",
       "      <td>566309.000000</td>\n",
       "      <td>566309.000000</td>\n",
       "      <td>1.661990e+05</td>\n",
       "      <td>560030.000000</td>\n",
       "      <td>560030.000000</td>\n",
       "      <td>560030.000000</td>\n",
       "      <td>560030.0</td>\n",
       "      <td>560030.000000</td>\n",
       "    </tr>\n",
       "    <tr>\n",
       "      <th>mean</th>\n",
       "      <td>58.856724</td>\n",
       "      <td>2017.247344</td>\n",
       "      <td>1.269592</td>\n",
       "      <td>80.986009</td>\n",
       "      <td>15350.700681</td>\n",
       "      <td>0.076228</td>\n",
       "      <td>1.087992</td>\n",
       "      <td>67.899410</td>\n",
       "      <td>1.579200e+02</td>\n",
       "      <td>11118.897896</td>\n",
       "      <td>1.097111</td>\n",
       "      <td>10834.162047</td>\n",
       "      <td>43252.0</td>\n",
       "      <td>42262.928056</td>\n",
       "    </tr>\n",
       "    <tr>\n",
       "      <th>std</th>\n",
       "      <td>1264.412523</td>\n",
       "      <td>0.536288</td>\n",
       "      <td>1.010798</td>\n",
       "      <td>2012.332810</td>\n",
       "      <td>1731.767269</td>\n",
       "      <td>0.387442</td>\n",
       "      <td>0.585696</td>\n",
       "      <td>1517.514476</td>\n",
       "      <td>5.512103e+03</td>\n",
       "      <td>21413.950593</td>\n",
       "      <td>0.581101</td>\n",
       "      <td>19564.343362</td>\n",
       "      <td>0.0</td>\n",
       "      <td>564.429263</td>\n",
       "    </tr>\n",
       "    <tr>\n",
       "      <th>min</th>\n",
       "      <td>0.060000</td>\n",
       "      <td>2016.000000</td>\n",
       "      <td>0.084250</td>\n",
       "      <td>0.124477</td>\n",
       "      <td>12346.000000</td>\n",
       "      <td>-126.962574</td>\n",
       "      <td>0.000000</td>\n",
       "      <td>0.000000</td>\n",
       "      <td>-4.117000e+01</td>\n",
       "      <td>0.000000</td>\n",
       "      <td>0.078919</td>\n",
       "      <td>0.000000</td>\n",
       "      <td>43252.0</td>\n",
       "      <td>41275.000000</td>\n",
       "    </tr>\n",
       "    <tr>\n",
       "      <th>25%</th>\n",
       "      <td>3.823200</td>\n",
       "      <td>2017.000000</td>\n",
       "      <td>0.951196</td>\n",
       "      <td>3.815059</td>\n",
       "      <td>13963.000000</td>\n",
       "      <td>-0.051465</td>\n",
       "      <td>0.854221</td>\n",
       "      <td>3.185624</td>\n",
       "      <td>3.186000e+00</td>\n",
       "      <td>1029.375000</td>\n",
       "      <td>0.860295</td>\n",
       "      <td>1014.073998</td>\n",
       "      <td>43252.0</td>\n",
       "      <td>41765.000000</td>\n",
       "    </tr>\n",
       "    <tr>\n",
       "      <th>50%</th>\n",
       "      <td>10.000000</td>\n",
       "      <td>2017.000000</td>\n",
       "      <td>1.097356</td>\n",
       "      <td>10.832956</td>\n",
       "      <td>15288.000000</td>\n",
       "      <td>0.046404</td>\n",
       "      <td>1.101769</td>\n",
       "      <td>9.340634</td>\n",
       "      <td>1.368000e+01</td>\n",
       "      <td>3543.545455</td>\n",
       "      <td>1.104343</td>\n",
       "      <td>3753.661509</td>\n",
       "      <td>43252.0</td>\n",
       "      <td>42277.000000</td>\n",
       "    </tr>\n",
       "    <tr>\n",
       "      <th>75%</th>\n",
       "      <td>24.000000</td>\n",
       "      <td>2018.000000</td>\n",
       "      <td>1.355904</td>\n",
       "      <td>27.259008</td>\n",
       "      <td>16921.000000</td>\n",
       "      <td>0.255980</td>\n",
       "      <td>1.260469</td>\n",
       "      <td>24.410862</td>\n",
       "      <td>4.773000e+01</td>\n",
       "      <td>10944.166667</td>\n",
       "      <td>1.265892</td>\n",
       "      <td>10737.011969</td>\n",
       "      <td>43252.0</td>\n",
       "      <td>42745.000000</td>\n",
       "    </tr>\n",
       "    <tr>\n",
       "      <th>max</th>\n",
       "      <td>664224.250000</td>\n",
       "      <td>2018.000000</td>\n",
       "      <td>188.185900</td>\n",
       "      <td>750849.719788</td>\n",
       "      <td>18287.000000</td>\n",
       "      <td>1.000000</td>\n",
       "      <td>33.942550</td>\n",
       "      <td>855425.223509</td>\n",
       "      <td>1.873030e+06</td>\n",
       "      <td>206633.000000</td>\n",
       "      <td>33.942550</td>\n",
       "      <td>263701.569347</td>\n",
       "      <td>43252.0</td>\n",
       "      <td>43252.000000</td>\n",
       "    </tr>\n",
       "  </tbody>\n",
       "</table>\n",
       "</div>"
      ],
      "text/plain": [
       "       quantity_shipped           year     unit_price      ext_price  \\\n",
       "count     566309.000000  566309.000000  566309.000000  566309.000000   \n",
       "mean          58.856724    2017.247344       1.269592      80.986009   \n",
       "std         1264.412523       0.536288       1.010798    2012.332810   \n",
       "min            0.060000    2016.000000       0.084250       0.124477   \n",
       "25%            3.823200    2017.000000       0.951196       3.815059   \n",
       "50%           10.000000    2017.000000       1.097356      10.832956   \n",
       "75%           24.000000    2018.000000       1.355904      27.259008   \n",
       "max       664224.250000    2018.000000     188.185900  750849.719788   \n",
       "\n",
       "         customer_id             gm           cost       ext_cost  \\\n",
       "count  566309.000000  566309.000000  566309.000000  566309.000000   \n",
       "mean    15350.700681       0.076228       1.087992      67.899410   \n",
       "std      1731.767269       0.387442       0.585696    1517.514476   \n",
       "min     12346.000000    -126.962574       0.000000       0.000000   \n",
       "25%     13963.000000      -0.051465       0.854221       3.185624   \n",
       "50%     15288.000000       0.046404       1.101769       9.340634   \n",
       "75%     16921.000000       0.255980       1.260469      24.410862   \n",
       "max     18287.000000       1.000000      33.942550  855425.223509   \n",
       "\n",
       "            unnamed  quantity_on_hand      unit_cost       ext_cost      date  \\\n",
       "count  1.661990e+05     560030.000000  560030.000000  560030.000000  560030.0   \n",
       "mean   1.579200e+02      11118.897896       1.097111   10834.162047   43252.0   \n",
       "std    5.512103e+03      21413.950593       0.581101   19564.343362       0.0   \n",
       "min   -4.117000e+01          0.000000       0.078919       0.000000   43252.0   \n",
       "25%    3.186000e+00       1029.375000       0.860295    1014.073998   43252.0   \n",
       "50%    1.368000e+01       3543.545455       1.104343    3753.661509   43252.0   \n",
       "75%    4.773000e+01      10944.166667       1.265892   10737.011969   43252.0   \n",
       "max    1.873030e+06     206633.000000      33.942550  263701.569347   43252.0   \n",
       "\n",
       "       last_receipt_date  \n",
       "count      560030.000000  \n",
       "mean        42262.928056  \n",
       "std           564.429263  \n",
       "min         41275.000000  \n",
       "25%         41765.000000  \n",
       "50%         42277.000000  \n",
       "75%         42745.000000  \n",
       "max         43252.000000  "
      ]
     },
     "execution_count": 184,
     "metadata": {},
     "output_type": "execute_result"
    }
   ],
   "source": [
    "df.describe()"
   ]
  },
  {
   "cell_type": "markdown",
   "metadata": {},
   "source": [
    "# convert invoice_date, date, last_receipe_date to datetime format"
   ]
  },
  {
   "cell_type": "code",
   "execution_count": 185,
   "metadata": {},
   "outputs": [
    {
     "data": {
      "text/plain": [
       "0    43252.0\n",
       "1        NaN\n",
       "2    43252.0\n",
       "3    43252.0\n",
       "4    43252.0\n",
       "5    43252.0\n",
       "6    43252.0\n",
       "7    43252.0\n",
       "8    43252.0\n",
       "9    43252.0\n",
       "Name: date, dtype: float64"
      ]
     },
     "execution_count": 185,
     "metadata": {},
     "output_type": "execute_result"
    }
   ],
   "source": [
    "df.date.head(10)"
   ]
  },
  {
   "cell_type": "code",
   "execution_count": 186,
   "metadata": {},
   "outputs": [],
   "source": [
    "invoice_date = pd.to_numeric(df['invoice_date'],errors='coerce')\n",
    "df['invoice_date'] = pd.to_datetime(invoice_date-25569,unit='D')"
   ]
  },
  {
   "cell_type": "code",
   "execution_count": 187,
   "metadata": {},
   "outputs": [
    {
     "data": {
      "text/plain": [
       "233"
      ]
     },
     "execution_count": 187,
     "metadata": {},
     "output_type": "execute_result"
    }
   ],
   "source": [
    "df['invoice_date'].isnull().sum()"
   ]
  },
  {
   "cell_type": "code",
   "execution_count": 189,
   "metadata": {},
   "outputs": [],
   "source": [
    "df['date']=pd.to_datetime(df.date-25569,unit='D')\n",
    "df['last_receipt_date']=pd.to_datetime(df.last_receipt_date-25569,unit='D')"
   ]
  },
  {
   "cell_type": "code",
   "execution_count": 192,
   "metadata": {},
   "outputs": [],
   "source": [
    "df.to_csv('cleaned_data.csv',index = False)"
   ]
  },
  {
   "cell_type": "code",
   "execution_count": null,
   "metadata": {},
   "outputs": [],
   "source": []
  }
 ],
 "metadata": {
  "kernelspec": {
   "display_name": "Python 3",
   "language": "python",
   "name": "python3"
  },
  "language_info": {
   "codemirror_mode": {
    "name": "ipython",
    "version": 3
   },
   "file_extension": ".py",
   "mimetype": "text/x-python",
   "name": "python",
   "nbconvert_exporter": "python",
   "pygments_lexer": "ipython3",
   "version": "3.6.5"
  }
 },
 "nbformat": 4,
 "nbformat_minor": 2
}
